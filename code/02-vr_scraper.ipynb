{
 "metadata": {
  "language_info": {
   "codemirror_mode": {
    "name": "ipython",
    "version": 3
   },
   "file_extension": ".py",
   "mimetype": "text/x-python",
   "name": "python",
   "nbconvert_exporter": "python",
   "pygments_lexer": "ipython3",
   "version": "2.7.17-final"
  },
  "orig_nbformat": 2,
  "kernelspec": {
   "name": "python2",
   "display_name": "Python 2"
  }
 },
 "nbformat": 4,
 "nbformat_minor": 2,
 "cells": [
  {
   "cell_type": "code",
   "execution_count": 7,
   "metadata": {},
   "outputs": [
    {
     "output_type": "error",
     "ename": "ImportError",
     "evalue": "No module named requests",
     "traceback": [
      "\u001b[0;31m\u001b[0m",
      "\u001b[0;31mImportError\u001b[0mTraceback (most recent call last)",
      "\u001b[0;32m<ipython-input-7-9477d901c017>\u001b[0m in \u001b[0;36m<module>\u001b[0;34m()\u001b[0m\n\u001b[0;32m----> 1\u001b[0;31m \u001b[0;32mimport\u001b[0m \u001b[0mrequests\u001b[0m\u001b[0;34m\u001b[0m\u001b[0m\n\u001b[0m\u001b[1;32m      2\u001b[0m \u001b[0;32mimport\u001b[0m \u001b[0mpandas\u001b[0m \u001b[0;32mas\u001b[0m \u001b[0mpd\u001b[0m\u001b[0;34m\u001b[0m\u001b[0m\n\u001b[1;32m      3\u001b[0m \u001b[0;32mfrom\u001b[0m \u001b[0mbs4\u001b[0m \u001b[0;32mimport\u001b[0m \u001b[0mBeautifulSoup\u001b[0m\u001b[0;34m\u001b[0m\u001b[0m\n\u001b[1;32m      4\u001b[0m \u001b[0;32mfrom\u001b[0m \u001b[0mdatetime\u001b[0m \u001b[0;32mimport\u001b[0m \u001b[0mdatetime\u001b[0m\u001b[0;34m\u001b[0m\u001b[0m\n\u001b[1;32m      5\u001b[0m \u001b[0;32mimport\u001b[0m \u001b[0mtime\u001b[0m\u001b[0;34m\u001b[0m\u001b[0m\n",
      "\u001b[0;31mImportError\u001b[0m: No module named requests"
     ]
    }
   ],
   "source": [
    "import requests\n",
    "import pandas as pd\n",
    "from bs4 import BeautifulSoup\n",
    "from datetime import datetime\n",
    "import time"
   ]
  },
  {
   "cell_type": "code",
   "execution_count": null,
   "metadata": {},
   "outputs": [],
   "source": [
    "\n",
    "\n",
    "print('Crawling...')\n",
    "\n",
    "urls = list()\n",
    "for i in range(3):  # 276\n",
    "    urls.append(f'https://www.vivareal.com.br/venda/santa-catarina/balneario-camboriu/apartamento_residencial/?pagina={i+1}')\n",
    "\n",
    "\n",
    "linkses = list()\n",
    "for url in urls:\n",
    "    page = requests.get(url)\n",
    "    print('URL: ', page.url)\n",
    "    print('STATUS_CODE: ', page.status_code)\n",
    "    soup = BeautifulSoup(page.content, 'html.parser')\n",
    "    print('TITLE: ', soup.title.string)\n",
    "    for h2 in soup.find_all('h2', {'class':'property-card__header'}):\n",
    "        linkses.append(f'https://www.vivareal.com.br{h2.a.get(\"href\", [])}')\n",
    "    \n",
    "\n",
    "\n",
    "lista = list()\n",
    "for urles in linkses:  # fazer com enumerate para saber em qual numero ta\n",
    "    page = requests.get(urles)\n",
    "    print('Scraping ', page.url)\n",
    "    soup = BeautifulSoup(page.content, 'html.parser')\n",
    "    div_ac = soup.find('div', {'class':'address-container'})\n",
    "    li_area = soup.find('li', {'class':'features__item features__item--area js-area'})\n",
    "    li_bedrooms = soup.find('li', {'class':'features__item features__item--bedroom js-bedrooms'})\n",
    "    li_bathrooms = soup.find('li', {'class':'features__item features__item--bathroom js-bathrooms'})\n",
    "    li_parking = soup.find('li', {'class':'features__item features__item--parking js-parking'})\n",
    "    div_price = soup.find('div', {'class':'price__content-wrapper'})\n",
    "    lista.append([\n",
    "        page.url, \n",
    "        div_ac.section.div.h1.text.strip(), \n",
    "        div_ac.section.div.div.p.text,\n",
    "        li_area.span.text,\n",
    "        li_bedrooms.span.text,\n",
    "        li_bathrooms.span.text,\n",
    "        li_parking.text,\n",
    "        div_price.h3.text.strip()\n",
    "    ])\n",
    "    time.sleep(45)\n",
    "\n",
    "\n",
    "df = pd.DataFrame(lista, columns=['url', 'title', 'address', 'area', 'bedrooms', 'bathrooms', 'parking', 'price'])\n",
    "\n",
    "print(df)\n",
    "# df.to_csv(r'bc_imoveis.csv')\n",
    "# df = pd.read_csv('bc_imoveis.csv')\n",
    "\n",
    "# df = pd.DataFrame([1,1,1,2,3])\n",
    "# len(df['url'].drop_duplicates())\n",
    "# df[['url', 'title', 'address', 'area', 'bedrooms', 'bathrooms', 'parking', 'price']].drop_duplicates()\n",
    "# # df['date'] = pd.Timestamp('2020-10-31')\n",
    "# df['date'] = pd.Timestamp(datetime.today().strftime('%Y-%m-%d'))\n",
    "\n",
    "\n",
    "# df = df[-df['price'].isin(['Sob Consulta'])]\n",
    "# df = df[-df['parking'].isin(['  Não informado Solicitar '])]\n",
    "# df['parking'] = df['parking'].str.replace(' vagas', '')\n",
    "# df['parking'] = df['parking'].str.replace(' vaga', '')\n",
    "# df['parking'] = df['parking'].str.replace(' ', '')\n",
    "\n",
    "# df['price'] = df['price'].str.replace('R$ ', '')\n",
    "# df['price'].unique()\n",
    "\n"
   ]
  },
  {
   "cell_type": "code",
   "execution_count": null,
   "metadata": {},
   "outputs": [],
   "source": []
  },
  {
   "cell_type": "code",
   "execution_count": null,
   "metadata": {},
   "outputs": [],
   "source": []
  },
  {
   "cell_type": "code",
   "execution_count": null,
   "metadata": {},
   "outputs": [],
   "source": []
  },
  {
   "cell_type": "code",
   "execution_count": null,
   "metadata": {},
   "outputs": [],
   "source": []
  },
  {
   "cell_type": "code",
   "execution_count": null,
   "metadata": {},
   "outputs": [],
   "source": []
  },
  {
   "cell_type": "code",
   "execution_count": null,
   "metadata": {},
   "outputs": [],
   "source": []
  },
  {
   "cell_type": "code",
   "execution_count": null,
   "metadata": {},
   "outputs": [],
   "source": []
  },
  {
   "cell_type": "code",
   "execution_count": null,
   "metadata": {},
   "outputs": [],
   "source": []
  }
 ]
}